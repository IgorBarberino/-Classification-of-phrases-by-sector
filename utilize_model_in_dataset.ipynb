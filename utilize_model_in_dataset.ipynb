{
 "cells": [
  {
   "cell_type": "code",
   "execution_count": 1,
   "id": "e175f68e-782f-4c9c-af50-86f11f4c3711",
   "metadata": {
    "tags": []
   },
   "outputs": [],
   "source": [
    "import pickle\n",
    "import pandas as pd\n",
    "from sklearn.feature_extraction.text import CountVectorizer"
   ]
  },
  {
   "cell_type": "code",
   "execution_count": 2,
   "id": "89d74e84-b5be-4314-a364-6589c9fb0a60",
   "metadata": {
    "tags": []
   },
   "outputs": [],
   "source": [
    "dataset = pd.read_csv('dataset.csv')"
   ]
  },
  {
   "cell_type": "code",
   "execution_count": 3,
   "id": "c45306a1-ee6d-41a3-9d5a-7edf828f5609",
   "metadata": {
    "tags": []
   },
   "outputs": [],
   "source": [
    "dataset = pd.concat([dataset['sentence'], dataset['category'].str.get_dummies(sep=',')], axis=1) "
   ]
  },
  {
   "cell_type": "code",
   "execution_count": 4,
   "id": "44239a48-4fc7-4e7e-b359-60443edcc7e2",
   "metadata": {
    "tags": []
   },
   "outputs": [
    {
     "data": {
      "text/html": [
       "<div>\n",
       "<style scoped>\n",
       "    .dataframe tbody tr th:only-of-type {\n",
       "        vertical-align: middle;\n",
       "    }\n",
       "\n",
       "    .dataframe tbody tr th {\n",
       "        vertical-align: top;\n",
       "    }\n",
       "\n",
       "    .dataframe thead th {\n",
       "        text-align: right;\n",
       "    }\n",
       "</style>\n",
       "<table border=\"1\" class=\"dataframe\">\n",
       "  <thead>\n",
       "    <tr style=\"text-align: right;\">\n",
       "      <th></th>\n",
       "      <th>sentence</th>\n",
       "      <th>educação</th>\n",
       "      <th>finanças</th>\n",
       "      <th>indústrias</th>\n",
       "      <th>orgão público</th>\n",
       "      <th>varejo</th>\n",
       "    </tr>\n",
       "  </thead>\n",
       "  <tbody>\n",
       "    <tr>\n",
       "      <th>0</th>\n",
       "      <td>Auxílio-Doença Previdenciário, Benefícios em E...</td>\n",
       "      <td>0</td>\n",
       "      <td>0</td>\n",
       "      <td>0</td>\n",
       "      <td>1</td>\n",
       "      <td>0</td>\n",
       "    </tr>\n",
       "    <tr>\n",
       "      <th>1</th>\n",
       "      <td>PAGAR TODAS AS CONTAS EM ATRASO R$1.290,90.</td>\n",
       "      <td>0</td>\n",
       "      <td>1</td>\n",
       "      <td>0</td>\n",
       "      <td>0</td>\n",
       "      <td>0</td>\n",
       "    </tr>\n",
       "    <tr>\n",
       "      <th>2</th>\n",
       "      <td>Então encontraremos na próxima aula.</td>\n",
       "      <td>1</td>\n",
       "      <td>0</td>\n",
       "      <td>0</td>\n",
       "      <td>0</td>\n",
       "      <td>0</td>\n",
       "    </tr>\n",
       "    <tr>\n",
       "      <th>3</th>\n",
       "      <td>Veja os resultados da categoria de ofertas do ...</td>\n",
       "      <td>0</td>\n",
       "      <td>0</td>\n",
       "      <td>1</td>\n",
       "      <td>0</td>\n",
       "      <td>0</td>\n",
       "    </tr>\n",
       "    <tr>\n",
       "      <th>4</th>\n",
       "      <td>Além disso, a embalagem é reutilizável e 100% ...</td>\n",
       "      <td>0</td>\n",
       "      <td>0</td>\n",
       "      <td>1</td>\n",
       "      <td>0</td>\n",
       "      <td>1</td>\n",
       "    </tr>\n",
       "    <tr>\n",
       "      <th>...</th>\n",
       "      <td>...</td>\n",
       "      <td>...</td>\n",
       "      <td>...</td>\n",
       "      <td>...</td>\n",
       "      <td>...</td>\n",
       "      <td>...</td>\n",
       "    </tr>\n",
       "    <tr>\n",
       "      <th>516</th>\n",
       "      <td>Selecione o local de estudo, curso sem encontr...</td>\n",
       "      <td>1</td>\n",
       "      <td>0</td>\n",
       "      <td>0</td>\n",
       "      <td>0</td>\n",
       "      <td>0</td>\n",
       "    </tr>\n",
       "    <tr>\n",
       "      <th>517</th>\n",
       "      <td>ESTUDANTES DA REDE MUNICIPAL VOLTAM ÀS AULAS E...</td>\n",
       "      <td>1</td>\n",
       "      <td>0</td>\n",
       "      <td>0</td>\n",
       "      <td>1</td>\n",
       "      <td>0</td>\n",
       "    </tr>\n",
       "    <tr>\n",
       "      <th>518</th>\n",
       "      <td>Empresas e órgãos públicos</td>\n",
       "      <td>0</td>\n",
       "      <td>0</td>\n",
       "      <td>0</td>\n",
       "      <td>1</td>\n",
       "      <td>0</td>\n",
       "    </tr>\n",
       "    <tr>\n",
       "      <th>519</th>\n",
       "      <td>DGE – Departamento de Gestão Estratégica Metas...</td>\n",
       "      <td>0</td>\n",
       "      <td>0</td>\n",
       "      <td>0</td>\n",
       "      <td>1</td>\n",
       "      <td>0</td>\n",
       "    </tr>\n",
       "    <tr>\n",
       "      <th>520</th>\n",
       "      <td>Lei 13.467/2017, Reforma Trabalhista</td>\n",
       "      <td>0</td>\n",
       "      <td>0</td>\n",
       "      <td>0</td>\n",
       "      <td>1</td>\n",
       "      <td>0</td>\n",
       "    </tr>\n",
       "  </tbody>\n",
       "</table>\n",
       "<p>521 rows × 6 columns</p>\n",
       "</div>"
      ],
      "text/plain": [
       "                                              sentence  educação  finanças  \\\n",
       "0    Auxílio-Doença Previdenciário, Benefícios em E...         0         0   \n",
       "1          PAGAR TODAS AS CONTAS EM ATRASO R$1.290,90.         0         1   \n",
       "2                 Então encontraremos na próxima aula.         1         0   \n",
       "3    Veja os resultados da categoria de ofertas do ...         0         0   \n",
       "4    Além disso, a embalagem é reutilizável e 100% ...         0         0   \n",
       "..                                                 ...       ...       ...   \n",
       "516  Selecione o local de estudo, curso sem encontr...         1         0   \n",
       "517  ESTUDANTES DA REDE MUNICIPAL VOLTAM ÀS AULAS E...         1         0   \n",
       "518                         Empresas e órgãos públicos         0         0   \n",
       "519  DGE – Departamento de Gestão Estratégica Metas...         0         0   \n",
       "520               Lei 13.467/2017, Reforma Trabalhista         0         0   \n",
       "\n",
       "     indústrias  orgão público  varejo  \n",
       "0             0              1       0  \n",
       "1             0              0       0  \n",
       "2             0              0       0  \n",
       "3             1              0       0  \n",
       "4             1              0       1  \n",
       "..          ...            ...     ...  \n",
       "516           0              0       0  \n",
       "517           0              1       0  \n",
       "518           0              1       0  \n",
       "519           0              1       0  \n",
       "520           0              1       0  \n",
       "\n",
       "[521 rows x 6 columns]"
      ]
     },
     "execution_count": 4,
     "metadata": {},
     "output_type": "execute_result"
    }
   ],
   "source": [
    "dataset"
   ]
  },
  {
   "cell_type": "code",
   "execution_count": 5,
   "id": "7e3fc8b9-de70-4f20-a09d-9bfa3094d156",
   "metadata": {
    "tags": []
   },
   "outputs": [],
   "source": [
    "vect = CountVectorizer()"
   ]
  },
  {
   "cell_type": "code",
   "execution_count": 7,
   "id": "ebb66b9b-c5bd-452f-b466-f490b793ada2",
   "metadata": {
    "tags": []
   },
   "outputs": [],
   "source": [
    "loaded_model, vect = pickle.load(open('model_NN.pkl', 'rb'))"
   ]
  },
  {
   "cell_type": "code",
   "execution_count": 8,
   "id": "677375ba-36e7-4cfb-be2e-87cfcecc48da",
   "metadata": {
    "tags": []
   },
   "outputs": [],
   "source": [
    "X_dataset = dataset['sentence']\n",
    "y_dataset = dataset.drop(['sentence'],axis=1)\n",
    "X_dataset_transf = vect.transform(X_dataset)"
   ]
  },
  {
   "cell_type": "code",
   "execution_count": 9,
   "id": "d75f9ed1-aa88-4738-a9bc-9668d860feff",
   "metadata": {
    "tags": []
   },
   "outputs": [
    {
     "data": {
      "text/plain": [
       "<521x1432 sparse matrix of type '<class 'numpy.int64'>'\n",
       "\twith 4164 stored elements in Compressed Sparse Row format>"
      ]
     },
     "execution_count": 9,
     "metadata": {},
     "output_type": "execute_result"
    }
   ],
   "source": [
    "X_dataset_transf"
   ]
  },
  {
   "cell_type": "code",
   "execution_count": null,
   "id": "04d269d8-6b5b-412b-b0ea-b003b50810e4",
   "metadata": {},
   "outputs": [],
   "source": []
  },
  {
   "cell_type": "code",
   "execution_count": 10,
   "id": "d5003c64-68e8-437b-8dd8-3ae81aedb70a",
   "metadata": {
    "tags": []
   },
   "outputs": [
    {
     "name": "stdout",
     "output_type": "stream",
     "text": [
      "0.9424184261036468\n"
     ]
    }
   ],
   "source": [
    "result = loaded_model.score(X_dataset_transf, y_dataset)\n",
    "print(result)"
   ]
  },
  {
   "cell_type": "code",
   "execution_count": null,
   "id": "97284d4b-4b3a-4209-8113-0f813879458e",
   "metadata": {},
   "outputs": [],
   "source": []
  },
  {
   "cell_type": "code",
   "execution_count": null,
   "id": "56e4c567-8be4-4a5b-94c8-18dda0107813",
   "metadata": {},
   "outputs": [],
   "source": []
  }
 ],
 "metadata": {
  "kernelspec": {
   "display_name": "Python 3 (ipykernel)",
   "language": "python",
   "name": "python3"
  },
  "language_info": {
   "codemirror_mode": {
    "name": "ipython",
    "version": 3
   },
   "file_extension": ".py",
   "mimetype": "text/x-python",
   "name": "python",
   "nbconvert_exporter": "python",
   "pygments_lexer": "ipython3",
   "version": "3.9.7"
  }
 },
 "nbformat": 4,
 "nbformat_minor": 5
}
