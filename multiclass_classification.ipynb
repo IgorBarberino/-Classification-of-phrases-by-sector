{
 "cells": [
  {
   "cell_type": "markdown",
   "id": "7a1c201b-9d21-4df9-8e53-38bced19ce9d",
   "metadata": {
    "tags": []
   },
   "source": [
    "## Definitions"
   ]
  },
  {
   "cell_type": "code",
   "execution_count": 15,
   "id": "b655fe8b-4be1-45e6-a05f-fb55ea90b381",
   "metadata": {
    "tags": []
   },
   "outputs": [],
   "source": [
    "import pandas as pd\n",
    "import numpy as np\n",
    "from sklearn.model_selection import train_test_split\n",
    "import torch\n",
    "from sklearn.feature_extraction.text import CountVectorizer\n",
    "from sklearn.multioutput import MultiOutputClassifier\n",
    "from sklearn.metrics import accuracy_score\n",
    "from sklearn.naive_bayes import MultinomialNB\n",
    "from sklearn.metrics import precision_score\n",
    "from sklearn.metrics import recall_score"
   ]
  },
  {
   "cell_type": "markdown",
   "id": "de83e79a-92d9-4368-a6ae-873f0321bc58",
   "metadata": {},
   "source": [
    "## Exploration"
   ]
  },
  {
   "cell_type": "code",
   "execution_count": 16,
   "id": "22e3c1e7-0595-45ed-a29a-ced6c1422ca0",
   "metadata": {
    "tags": []
   },
   "outputs": [],
   "source": [
    "dataset = pd.read_csv('dataset.csv')"
   ]
  },
  {
   "cell_type": "code",
   "execution_count": 17,
   "id": "6bd6c65e-80b1-40eb-9744-ff7059639b53",
   "metadata": {
    "tags": []
   },
   "outputs": [
    {
     "data": {
      "text/plain": [
       "(521, 2)"
      ]
     },
     "execution_count": 17,
     "metadata": {},
     "output_type": "execute_result"
    }
   ],
   "source": [
    "dataset.shape"
   ]
  },
  {
   "cell_type": "code",
   "execution_count": 18,
   "id": "d2857fd2-abcd-4a43-baf2-8dc0a60240a6",
   "metadata": {
    "tags": []
   },
   "outputs": [
    {
     "data": {
      "text/html": [
       "<div>\n",
       "<style scoped>\n",
       "    .dataframe tbody tr th:only-of-type {\n",
       "        vertical-align: middle;\n",
       "    }\n",
       "\n",
       "    .dataframe tbody tr th {\n",
       "        vertical-align: top;\n",
       "    }\n",
       "\n",
       "    .dataframe thead th {\n",
       "        text-align: right;\n",
       "    }\n",
       "</style>\n",
       "<table border=\"1\" class=\"dataframe\">\n",
       "  <thead>\n",
       "    <tr style=\"text-align: right;\">\n",
       "      <th></th>\n",
       "      <th>sentence</th>\n",
       "      <th>category</th>\n",
       "    </tr>\n",
       "  </thead>\n",
       "  <tbody>\n",
       "  </tbody>\n",
       "</table>\n",
       "</div>"
      ],
      "text/plain": [
       "Empty DataFrame\n",
       "Columns: [sentence, category]\n",
       "Index: []"
      ]
     },
     "execution_count": 18,
     "metadata": {},
     "output_type": "execute_result"
    }
   ],
   "source": [
    "dataset[dataset['sentence'].isna()]"
   ]
  },
  {
   "cell_type": "code",
   "execution_count": 19,
   "id": "9e141c86-9dae-40a5-be9c-436b54971162",
   "metadata": {
    "tags": []
   },
   "outputs": [
    {
     "data": {
      "text/html": [
       "<div>\n",
       "<style scoped>\n",
       "    .dataframe tbody tr th:only-of-type {\n",
       "        vertical-align: middle;\n",
       "    }\n",
       "\n",
       "    .dataframe tbody tr th {\n",
       "        vertical-align: top;\n",
       "    }\n",
       "\n",
       "    .dataframe thead th {\n",
       "        text-align: right;\n",
       "    }\n",
       "</style>\n",
       "<table border=\"1\" class=\"dataframe\">\n",
       "  <thead>\n",
       "    <tr style=\"text-align: right;\">\n",
       "      <th></th>\n",
       "      <th>sentence</th>\n",
       "      <th>category</th>\n",
       "    </tr>\n",
       "  </thead>\n",
       "  <tbody>\n",
       "  </tbody>\n",
       "</table>\n",
       "</div>"
      ],
      "text/plain": [
       "Empty DataFrame\n",
       "Columns: [sentence, category]\n",
       "Index: []"
      ]
     },
     "execution_count": 19,
     "metadata": {},
     "output_type": "execute_result"
    }
   ],
   "source": [
    "dataset[dataset['category'].isna()]"
   ]
  },
  {
   "cell_type": "code",
   "execution_count": 20,
   "id": "ac6d4f5d-d5e3-41b4-a0b8-b86f826263c7",
   "metadata": {
    "tags": []
   },
   "outputs": [
    {
     "data": {
      "text/plain": [
       "category\n",
       "orgão público               140\n",
       "educação                    107\n",
       "indústrias                   89\n",
       "varejo                       85\n",
       "finanças                     54\n",
       "finanças,varejo              13\n",
       "educação,orgão público        9\n",
       "indústrias,varejo             7\n",
       "educação,indústrias           5\n",
       "finanças,orgão público        4\n",
       "finanças,indústrias           3\n",
       "indústrias,orgão público      2\n",
       "educação,finanças             2\n",
       "varejo,indústrias             1\n",
       "Name: count, dtype: int64"
      ]
     },
     "execution_count": 20,
     "metadata": {},
     "output_type": "execute_result"
    }
   ],
   "source": [
    "dataset.category.value_counts()"
   ]
  },
  {
   "cell_type": "markdown",
   "id": "9459c1f6-5a0d-4777-ae23-01992f7d58ee",
   "metadata": {},
   "source": [
    "## using the category value as dummies"
   ]
  },
  {
   "cell_type": "code",
   "execution_count": 21,
   "id": "c7dfcca4-0421-4808-954c-1230a917aa53",
   "metadata": {
    "tags": []
   },
   "outputs": [],
   "source": [
    "dataset = pd.concat([dataset['sentence'], dataset['category'].str.get_dummies(sep=',')], axis=1) "
   ]
  },
  {
   "cell_type": "markdown",
   "id": "32e74089-2448-4c69-b13d-130e043fd85d",
   "metadata": {},
   "source": [
    "## split"
   ]
  },
  {
   "cell_type": "code",
   "execution_count": 25,
   "id": "eb74026d-9b08-433b-a14c-a3df0ba3e0b9",
   "metadata": {
    "tags": []
   },
   "outputs": [],
   "source": [
    "generator1 = torch.Generator().manual_seed(0)\n",
    "train_set, val_set, test_set = torch.utils.data.random_split(dataset, [0.6, 0.2, 0.2], generator=generator1)"
   ]
  },
  {
   "cell_type": "code",
   "execution_count": 26,
   "id": "7ee9293c-16d3-42e1-9660-260d3ab275ce",
   "metadata": {
    "tags": []
   },
   "outputs": [],
   "source": [
    "train_set = train_set.dataset.iloc[train_set.indices]\n",
    "val_set = val_set.dataset.iloc[val_set.indices]\n",
    "test_set = test_set.dataset.iloc[test_set.indices]"
   ]
  },
  {
   "cell_type": "code",
   "execution_count": 27,
   "id": "b96c3a5f-c5b6-4210-8776-7a3cf969ef45",
   "metadata": {
    "tags": []
   },
   "outputs": [],
   "source": [
    "#X_train, X_test, y_train, y_test = train_test_split(X, y, test_size=0.33, random_state=42)"
   ]
  },
  {
   "cell_type": "code",
   "execution_count": 28,
   "id": "da80bd31-bad5-4f11-b86a-e20eb90eb719",
   "metadata": {
    "tags": []
   },
   "outputs": [],
   "source": [
    "X_train = train_set['sentence']\n",
    "X_val = val_set['sentence']\n",
    "X_test = test_set['sentence']\n",
    "y_train = train_set.drop(['sentence'],axis=1)\n",
    "y_val = val_set.drop(['sentence'],axis=1)\n",
    "y_test = test_set.drop(['sentence'],axis=1)"
   ]
  },
  {
   "cell_type": "markdown",
   "id": "bed48c21-5b04-48c1-8958-8b5877b5c50b",
   "metadata": {},
   "source": [
    "Ajustes no X e y"
   ]
  },
  {
   "cell_type": "markdown",
   "id": "bc7e2f77-8b14-4933-9871-e5c74c9de17c",
   "metadata": {},
   "source": [
    "## vectorization"
   ]
  },
  {
   "cell_type": "code",
   "execution_count": 29,
   "id": "ef8d68ec-2638-4c01-9a32-3ed0d490b3e8",
   "metadata": {
    "tags": []
   },
   "outputs": [],
   "source": [
    "vect = CountVectorizer()\n",
    "\n",
    "X_train_transf = vect.fit_transform(X_train)\n",
    "X_val_transf = vect.transform(X_val)\n",
    "X_test_transf = vect.transform(X_test)"
   ]
  },
  {
   "cell_type": "code",
   "execution_count": 263,
   "id": "2b0ddcc8-6b91-4d54-8de9-0a5516765dfc",
   "metadata": {
    "tags": []
   },
   "outputs": [],
   "source": [
    "classes = ['educação','finanças','indústrias','orgão','público','varejo']"
   ]
  },
  {
   "cell_type": "code",
   "execution_count": 264,
   "id": "c52ffde9-844d-49fe-bad6-55705c3560a2",
   "metadata": {
    "tags": []
   },
   "outputs": [
    {
     "data": {
      "text/plain": [
       "334    Medidas de redução de perdas de água em redes ...\n",
       "358                                 Cesta Páscoa de Amor\n",
       "15     Como saber o limite do cartão de crédito e o v...\n",
       "291    Mensalidade em 2021 apenas 15 x 480,00 também ...\n",
       "62                          Educação Especial 120 Horas.\n",
       "                             ...                        \n",
       "244                                   Instrutor de curso\n",
       "389    Todo correntista do ITAÚ já possui uma conta p...\n",
       "443    Serão aceitos no máximo três trabalhos com o m...\n",
       "422                                   Dicas do Professor\n",
       "79     Egressos de Fisioterapia da UNESC assumem como...\n",
       "Name: sentence, Length: 104, dtype: object"
      ]
     },
     "execution_count": 264,
     "metadata": {},
     "output_type": "execute_result"
    }
   ],
   "source": [
    "X_val"
   ]
  },
  {
   "cell_type": "code",
   "execution_count": 265,
   "id": "a0502d2b-567d-46f6-882d-51fd4f00f83d",
   "metadata": {
    "tags": []
   },
   "outputs": [
    {
     "data": {
      "text/plain": [
       "<313x1432 sparse matrix of type '<class 'numpy.int64'>'\n",
       "\twith 2947 stored elements in Compressed Sparse Row format>"
      ]
     },
     "execution_count": 265,
     "metadata": {},
     "output_type": "execute_result"
    }
   ],
   "source": [
    "X_train_transf"
   ]
  },
  {
   "cell_type": "markdown",
   "id": "2fbe11e0-f694-475b-9165-81a9ad6f2a74",
   "metadata": {},
   "source": [
    "## Model testing"
   ]
  },
  {
   "cell_type": "markdown",
   "id": "75c05c9a-6444-4cfd-9820-5f36769a5d56",
   "metadata": {
    "tags": []
   },
   "source": [
    "### In cases where the models classify the text as not belonging to any class, choose the class with the highest probability"
   ]
  },
  {
   "cell_type": "code",
   "execution_count": 35,
   "id": "4ac8de10-974b-41d7-abca-1572cfe808e5",
   "metadata": {
    "tags": []
   },
   "outputs": [],
   "source": [
    "def consider_at_least_one_class(prediction, y_predicted):\n",
    "\n",
    "    prediction2 = prediction.copy()\n",
    "    y_predicted_np = np.array(y_predicted) \n",
    "    y_predicted_np_moved = np.moveaxis(y_predicted_np, 0, -1)\n",
    "    y_predicted_np_moved_pos = y_predicted_np_moved[:,0,:]\n",
    "    argmax = np.argmax(y_predicted_np_moved_pos, axis=1)\n",
    "\n",
    "    for i in range(0, len(prediction2)):\n",
    "        #if we never came up with a prediction, use our \"forced\" single prediction\n",
    "        if (all(proba == 0 for proba in prediction2[i])):\n",
    "            prediction2[i, argmax[i]] = 1\n",
    "\n",
    "    return prediction2"
   ]
  },
  {
   "cell_type": "markdown",
   "id": "ab52ba18-5d0c-4ab1-b57f-e89d91ecf7ca",
   "metadata": {
    "tags": []
   },
   "source": [
    "### nayve bayes"
   ]
  },
  {
   "cell_type": "code",
   "execution_count": 895,
   "id": "46c3e4c3-342c-4b9b-8d18-8dec82b4b3fd",
   "metadata": {
    "tags": []
   },
   "outputs": [
    {
     "data": {
      "text/plain": [
       "array([[0, 0, 0, 0, 0],\n",
       "       [0, 1, 0, 0, 0],\n",
       "       [0, 0, 0, 0, 0],\n",
       "       [1, 0, 0, 0, 0],\n",
       "       [0, 0, 0, 0, 1],\n",
       "       [1, 0, 0, 0, 0],\n",
       "       [0, 0, 0, 1, 0],\n",
       "       [0, 0, 0, 0, 0],\n",
       "       [0, 0, 0, 0, 0]], dtype=int64)"
      ]
     },
     "execution_count": 895,
     "metadata": {},
     "output_type": "execute_result"
    }
   ],
   "source": [
    "classifier = MultiOutputClassifier(MultinomialNB(alpha=0.8))\n",
    "\n",
    "classifier.fit(X_train_transf, y_train)\n",
    "y_predicted = classifier.predict_proba(X_val_transf)\n",
    "prediction = classifier.predict(X_val_transf)\n",
    "prediction[1:10]"
   ]
  },
  {
   "cell_type": "code",
   "execution_count": 896,
   "id": "8d6c59c3-75a9-4589-b12c-1f703e8069a3",
   "metadata": {
    "tags": []
   },
   "outputs": [
    {
     "name": "stdout",
     "output_type": "stream",
     "text": [
      "Accuracy Score:  0.5673076923076923\n"
     ]
    }
   ],
   "source": [
    "print('Accuracy Score: ', accuracy_score(y_val, prediction))"
   ]
  },
  {
   "cell_type": "code",
   "execution_count": 897,
   "id": "e673b969-c904-4314-9ff9-281ad78abd30",
   "metadata": {
    "tags": []
   },
   "outputs": [],
   "source": [
    "prediction_at_least_one = consider_at_least_one_class(prediction, y_predicted)"
   ]
  },
  {
   "cell_type": "code",
   "execution_count": 898,
   "id": "581ab905-0972-46bd-93c7-ec0b258eddf4",
   "metadata": {
    "tags": []
   },
   "outputs": [
    {
     "name": "stdout",
     "output_type": "stream",
     "text": [
      "Accuracy Score:  0.5769230769230769\n"
     ]
    }
   ],
   "source": [
    "print('Accuracy Score: ', accuracy_score(y_val, prediction_at_least_one))"
   ]
  },
  {
   "cell_type": "markdown",
   "id": "0016f651-7bb8-4b0a-9090-7280fd2209c2",
   "metadata": {
    "jp-MarkdownHeadingCollapsed": true,
    "tags": []
   },
   "source": [
    "## logistic regression"
   ]
  },
  {
   "cell_type": "code",
   "execution_count": 320,
   "id": "d88e9b70-4eed-4dc1-904d-342a4817ee87",
   "metadata": {
    "tags": []
   },
   "outputs": [],
   "source": [
    "from sklearn.linear_model import LogisticRegression"
   ]
  },
  {
   "cell_type": "code",
   "execution_count": 413,
   "id": "7aa3de7e-4a3c-4cbf-bd0c-db765cb76921",
   "metadata": {
    "tags": []
   },
   "outputs": [],
   "source": [
    "classifier = MultiOutputClassifier(LogisticRegression(C=100))\n",
    "\n",
    "classifier.fit(X_train_transf, y_train)\n",
    "y_predicted = classifier.predict_proba(X_val_transf)\n",
    "prediction = classifier.predict(X_val_transf)"
   ]
  },
  {
   "cell_type": "code",
   "execution_count": 414,
   "id": "9dd3300c-ea81-4534-860f-bed3423a4562",
   "metadata": {
    "tags": []
   },
   "outputs": [
    {
     "name": "stdout",
     "output_type": "stream",
     "text": [
      "Accuracy Score:  0.4423076923076923\n"
     ]
    }
   ],
   "source": [
    "print('Accuracy Score: ', accuracy_score(y_val, prediction))"
   ]
  },
  {
   "cell_type": "code",
   "execution_count": 415,
   "id": "7786e795-7ce7-44ce-964e-a463c8c06db6",
   "metadata": {
    "tags": []
   },
   "outputs": [],
   "source": [
    "prediction_at_least_one = consider_at_least_one_class(prediction, y_predicted)"
   ]
  },
  {
   "cell_type": "code",
   "execution_count": 416,
   "id": "e191a049-a895-4129-988b-fd0802ab1d02",
   "metadata": {
    "tags": []
   },
   "outputs": [
    {
     "name": "stdout",
     "output_type": "stream",
     "text": [
      "Accuracy Score:  0.4807692307692308\n"
     ]
    }
   ],
   "source": [
    "print('Accuracy Score: ', accuracy_score(y_val, prediction_at_least_one))"
   ]
  },
  {
   "cell_type": "markdown",
   "id": "e8d0e248-0912-4a08-9bd4-198907f0ac9f",
   "metadata": {
    "jp-MarkdownHeadingCollapsed": true,
    "tags": []
   },
   "source": [
    "## multi layer perceptron NN"
   ]
  },
  {
   "cell_type": "code",
   "execution_count": 940,
   "id": "c3390d96-814a-4f9e-b104-f197ac7ce132",
   "metadata": {
    "tags": []
   },
   "outputs": [],
   "source": [
    "from sklearn.neural_network import MLPClassifier\n",
    "classifier = MultiOutputClassifier(MLPClassifier(solver='lbfgs', alpha=1e-5,hidden_layer_sizes=(5,5,2), random_state=1))"
   ]
  },
  {
   "cell_type": "code",
   "execution_count": 947,
   "id": "ab21673f-b317-4d8d-9e03-f8858f3d24b8",
   "metadata": {
    "tags": []
   },
   "outputs": [],
   "source": [
    "classifier.fit(X_train_transf, y_train)\n",
    "y_predicted = classifier.predict_proba(X_val_transf)\n",
    "prediction = classifier.predict(X_val_transf)"
   ]
  },
  {
   "cell_type": "code",
   "execution_count": 948,
   "id": "29afc11b-6095-4562-b711-1f6d4c2f45ee",
   "metadata": {
    "tags": []
   },
   "outputs": [
    {
     "name": "stdout",
     "output_type": "stream",
     "text": [
      "Accuracy Score:  0.49038461538461536\n"
     ]
    }
   ],
   "source": [
    "print('Accuracy Score: ', accuracy_score(y_val, prediction))"
   ]
  },
  {
   "cell_type": "code",
   "execution_count": 949,
   "id": "a8efc9b4-49fb-4642-a732-ac072cd598c4",
   "metadata": {
    "tags": []
   },
   "outputs": [
    {
     "name": "stdout",
     "output_type": "stream",
     "text": [
      "Precision Score:  0.7711163060541942\n"
     ]
    }
   ],
   "source": [
    "print('Precision Score: ',precision_score(y_val, prediction, average='weighted'))"
   ]
  },
  {
   "cell_type": "code",
   "execution_count": 950,
   "id": "6bd62ad2-03bb-48f2-9ca5-7980b754ad9d",
   "metadata": {
    "tags": []
   },
   "outputs": [],
   "source": [
    "prediction_at_least_one = consider_at_least_one_class(prediction, y_predicted)"
   ]
  },
  {
   "cell_type": "code",
   "execution_count": 951,
   "id": "409217be-3593-4eb2-8c82-3f3e63b77420",
   "metadata": {
    "tags": []
   },
   "outputs": [
    {
     "name": "stdout",
     "output_type": "stream",
     "text": [
      "Accuracy Score:  0.5865384615384616\n"
     ]
    }
   ],
   "source": [
    "print('Accuracy Score: ', accuracy_score(y_val, prediction_at_least_one))"
   ]
  },
  {
   "cell_type": "code",
   "execution_count": 952,
   "id": "d771e45b-6bb2-41ec-8c38-914b319a24c8",
   "metadata": {
    "tags": []
   },
   "outputs": [
    {
     "name": "stdout",
     "output_type": "stream",
     "text": [
      "Precision Score:  0.7711163060541942\n"
     ]
    }
   ],
   "source": [
    "print('Precision Score: ',precision_score(y_val, prediction, average='weighted'))"
   ]
  },
  {
   "cell_type": "markdown",
   "id": "56d82770-dfb9-4b29-8963-de2b2dc8cc69",
   "metadata": {
    "jp-MarkdownHeadingCollapsed": true,
    "tags": []
   },
   "source": [
    "## SVM"
   ]
  },
  {
   "cell_type": "code",
   "execution_count": 532,
   "id": "9fa5a91b-d9b0-4ed8-a52c-ebd28125554a",
   "metadata": {
    "tags": []
   },
   "outputs": [],
   "source": [
    "from sklearn.svm import SVC"
   ]
  },
  {
   "cell_type": "code",
   "execution_count": 675,
   "id": "af82336a-a937-4ddc-b22d-9b86e6f142b0",
   "metadata": {
    "tags": []
   },
   "outputs": [],
   "source": [
    "classifier = MultiOutputClassifier(SVC(kernel='linear',probability=True, C=2))"
   ]
  },
  {
   "cell_type": "code",
   "execution_count": 676,
   "id": "9f705e5c-71a8-4ea8-b2ea-a066e76d0c0c",
   "metadata": {
    "tags": []
   },
   "outputs": [],
   "source": [
    "classifier.fit(X_train_transf, y_train)\n",
    "y_predicted = classifier.predict_proba(X_val_transf)\n",
    "prediction = classifier.predict(X_val_transf)"
   ]
  },
  {
   "cell_type": "code",
   "execution_count": 677,
   "id": "77758dce-238d-4025-862c-ee7280c40f4e",
   "metadata": {
    "tags": []
   },
   "outputs": [
    {
     "name": "stdout",
     "output_type": "stream",
     "text": [
      "Accuracy Score:  0.5288461538461539\n"
     ]
    }
   ],
   "source": [
    "print('Accuracy Score: ', accuracy_score(y_val, prediction))"
   ]
  },
  {
   "cell_type": "code",
   "execution_count": 678,
   "id": "bc9e9bb6-a3dc-49bf-9e91-cff191011348",
   "metadata": {
    "tags": []
   },
   "outputs": [],
   "source": [
    "prediction_at_least_one = consider_at_least_one_class(prediction, y_predicted)"
   ]
  },
  {
   "cell_type": "code",
   "execution_count": 679,
   "id": "78e61e05-5af1-4e87-885c-7e06a943488f",
   "metadata": {
    "tags": []
   },
   "outputs": [
    {
     "name": "stdout",
     "output_type": "stream",
     "text": [
      "Accuracy Score:  0.5576923076923077\n"
     ]
    }
   ],
   "source": [
    "print('Accuracy Score: ', accuracy_score(y_val, prediction_at_least_one))"
   ]
  },
  {
   "cell_type": "code",
   "execution_count": 688,
   "id": "4c9edd11-75a9-4223-95e2-4c79c5364316",
   "metadata": {
    "tags": []
   },
   "outputs": [],
   "source": [
    "from sklearn.neighbors import KNeighborsClassifier"
   ]
  },
  {
   "cell_type": "code",
   "execution_count": 720,
   "id": "283a9c89-f226-4d25-9da1-b1b01307e2c3",
   "metadata": {
    "tags": []
   },
   "outputs": [],
   "source": [
    "classifier = MultiOutputClassifier(KNeighborsClassifier(n_neighbors=5, weights='distance', algorithm='auto', p=1))"
   ]
  },
  {
   "cell_type": "code",
   "execution_count": 721,
   "id": "8237badf-1e12-48ca-a3ad-5229a73f4218",
   "metadata": {
    "tags": []
   },
   "outputs": [],
   "source": [
    "classifier.fit(X_train_transf, y_train)\n",
    "y_predicted = classifier.predict_proba(X_val_transf)\n",
    "prediction = classifier.predict(X_val_transf)"
   ]
  },
  {
   "cell_type": "code",
   "execution_count": 722,
   "id": "96961f5a-7a9d-4a38-8abe-1b7f263f744c",
   "metadata": {
    "tags": []
   },
   "outputs": [
    {
     "name": "stdout",
     "output_type": "stream",
     "text": [
      "Accuracy Score:  0.1346153846153846\n"
     ]
    }
   ],
   "source": [
    "print('Accuracy Score: ', accuracy_score(y_val, prediction))"
   ]
  },
  {
   "cell_type": "code",
   "execution_count": 723,
   "id": "63ac4bb1-8bf5-4b7d-9a31-24705da1eac7",
   "metadata": {
    "tags": []
   },
   "outputs": [],
   "source": [
    "prediction_at_least_one = consider_at_least_one_class(prediction, y_predicted)"
   ]
  },
  {
   "cell_type": "code",
   "execution_count": 724,
   "id": "92cfcd38-2feb-41bd-9aba-2ddd6ea82f8f",
   "metadata": {
    "tags": []
   },
   "outputs": [
    {
     "name": "stdout",
     "output_type": "stream",
     "text": [
      "Accuracy Score:  0.15384615384615385\n"
     ]
    }
   ],
   "source": [
    "print('Accuracy Score: ', accuracy_score(y_val, prediction_at_least_one))"
   ]
  },
  {
   "cell_type": "markdown",
   "id": "9ea4dab9-0527-419b-99b8-0d8853775fe3",
   "metadata": {
    "jp-MarkdownHeadingCollapsed": true,
    "tags": []
   },
   "source": [
    "## Random Forest"
   ]
  },
  {
   "cell_type": "code",
   "execution_count": 725,
   "id": "6186d6a9-c57d-4288-aeda-571bd8d1cc5f",
   "metadata": {
    "tags": []
   },
   "outputs": [],
   "source": [
    "from sklearn.ensemble import RandomForestClassifier"
   ]
  },
  {
   "cell_type": "code",
   "execution_count": 753,
   "id": "5631e820-22f1-4fa9-b288-fc428725a383",
   "metadata": {
    "tags": []
   },
   "outputs": [],
   "source": [
    "classifier = MultiOutputClassifier(RandomForestClassifier(n_estimators=200))"
   ]
  },
  {
   "cell_type": "code",
   "execution_count": 754,
   "id": "62f48445-8df3-4c72-89d2-6045fc74dbf0",
   "metadata": {
    "tags": []
   },
   "outputs": [],
   "source": [
    "classifier.fit(X_train_transf, y_train)\n",
    "y_predicted = classifier.predict_proba(X_val_transf)\n",
    "prediction = classifier.predict(X_val_transf)"
   ]
  },
  {
   "cell_type": "code",
   "execution_count": 755,
   "id": "01790075-0a24-4455-8433-80bfc5722a9e",
   "metadata": {
    "tags": []
   },
   "outputs": [
    {
     "name": "stdout",
     "output_type": "stream",
     "text": [
      "Accuracy Score:  0.23076923076923078\n"
     ]
    }
   ],
   "source": [
    "print('Accuracy Score: ', accuracy_score(y_val, prediction))"
   ]
  },
  {
   "cell_type": "code",
   "execution_count": 756,
   "id": "8af9e4ab-6d37-44e8-938e-a7647e399af5",
   "metadata": {
    "tags": []
   },
   "outputs": [],
   "source": [
    "prediction_at_least_one = consider_at_least_one_class(prediction, y_predicted)"
   ]
  },
  {
   "cell_type": "code",
   "execution_count": 757,
   "id": "6b743609-6a8c-4b76-b544-f7c45e1b286c",
   "metadata": {
    "tags": []
   },
   "outputs": [
    {
     "name": "stdout",
     "output_type": "stream",
     "text": [
      "Accuracy Score:  0.25\n"
     ]
    }
   ],
   "source": [
    "print('Accuracy Score: ', accuracy_score(y_val, prediction_at_least_one))"
   ]
  },
  {
   "cell_type": "markdown",
   "id": "98cb6ef6-dfa6-47df-b135-098db819f228",
   "metadata": {
    "jp-MarkdownHeadingCollapsed": true,
    "tags": []
   },
   "source": [
    "## GradientBoostingClassifier"
   ]
  },
  {
   "cell_type": "code",
   "execution_count": 758,
   "id": "0f2c0e9e-156a-4ddc-b9ea-0326f9de2260",
   "metadata": {
    "tags": []
   },
   "outputs": [],
   "source": [
    "from sklearn.ensemble import GradientBoostingClassifier"
   ]
  },
  {
   "cell_type": "code",
   "execution_count": 814,
   "id": "c0b2fb87-f3ac-427d-abec-74aecd41db7a",
   "metadata": {
    "tags": []
   },
   "outputs": [],
   "source": [
    "classifier = MultiOutputClassifier(GradientBoostingClassifier(loss='log_loss', learning_rate=0.5))"
   ]
  },
  {
   "cell_type": "code",
   "execution_count": 815,
   "id": "40be574c-2512-4344-ace0-e05ad71a038b",
   "metadata": {
    "tags": []
   },
   "outputs": [],
   "source": [
    "classifier.fit(X_train_transf, y_train)\n",
    "y_predicted = classifier.predict_proba(X_val_transf)\n",
    "prediction = classifier.predict(X_val_transf)"
   ]
  },
  {
   "cell_type": "code",
   "execution_count": 816,
   "id": "d43f81ff-abe5-4496-9141-aead6dc76aaa",
   "metadata": {
    "tags": []
   },
   "outputs": [
    {
     "name": "stdout",
     "output_type": "stream",
     "text": [
      "Accuracy Score:  0.4230769230769231\n"
     ]
    }
   ],
   "source": [
    "print('Accuracy Score: ', accuracy_score(y_val, prediction))"
   ]
  },
  {
   "cell_type": "code",
   "execution_count": 817,
   "id": "35861334-4654-4a03-874e-720eabe86b72",
   "metadata": {
    "tags": []
   },
   "outputs": [],
   "source": [
    "prediction_at_least_one = consider_at_least_one_class(prediction, y_predicted)"
   ]
  },
  {
   "cell_type": "code",
   "execution_count": 818,
   "id": "b1797c29-d2c4-4df0-a84f-6b32be6f7e1d",
   "metadata": {
    "tags": []
   },
   "outputs": [
    {
     "name": "stdout",
     "output_type": "stream",
     "text": [
      "Accuracy Score:  0.46153846153846156\n"
     ]
    }
   ],
   "source": [
    "print('Accuracy Score: ', accuracy_score(y_val, prediction_at_least_one))"
   ]
  },
  {
   "cell_type": "markdown",
   "id": "1d683538-9089-4395-a55b-c9b5712250b5",
   "metadata": {
    "jp-MarkdownHeadingCollapsed": true,
    "tags": []
   },
   "source": [
    "## XGboost"
   ]
  },
  {
   "cell_type": "code",
   "execution_count": null,
   "id": "83031c67-e055-4e52-a5eb-165851f05735",
   "metadata": {},
   "outputs": [],
   "source": []
  },
  {
   "cell_type": "code",
   "execution_count": 914,
   "id": "2f607aff-5e58-4fbb-bc8b-f5dd40374d8c",
   "metadata": {
    "tags": []
   },
   "outputs": [],
   "source": [
    "from xgboost.sklearn import XGBClassifier"
   ]
  },
  {
   "cell_type": "code",
   "execution_count": 915,
   "id": "6ec24aa2-d1da-419e-9b9d-780da3b0b7d3",
   "metadata": {
    "tags": []
   },
   "outputs": [],
   "source": [
    "classifier = MultiOutputClassifier(XGBClassifier(n_estimators = 650,\n",
    "                    max_depth = 10, \n",
    "                    learning_rate = 0.01,\n",
    "                    random_state=1))"
   ]
  },
  {
   "cell_type": "code",
   "execution_count": 916,
   "id": "ac251578-3cc1-4e44-96fc-79e0caadff4c",
   "metadata": {
    "tags": []
   },
   "outputs": [],
   "source": [
    "classifier.fit(X_train_transf, y_train)\n",
    "y_predicted = classifier.predict_proba(X_val_transf)\n",
    "prediction = classifier.predict(X_val_transf)"
   ]
  },
  {
   "cell_type": "code",
   "execution_count": 917,
   "id": "d8d8e358-2ee8-403d-b8a2-793d9f0dcc51",
   "metadata": {
    "tags": []
   },
   "outputs": [
    {
     "name": "stdout",
     "output_type": "stream",
     "text": [
      "Accuracy Score:  0.25\n"
     ]
    }
   ],
   "source": [
    "print('Accuracy Score: ', accuracy_score(y_val, prediction))"
   ]
  },
  {
   "cell_type": "code",
   "execution_count": 918,
   "id": "9d140c1a-f79e-434d-a643-59027764d2fc",
   "metadata": {
    "tags": []
   },
   "outputs": [],
   "source": [
    "prediction_at_least_one = consider_at_least_one_class(prediction, y_predicted)"
   ]
  },
  {
   "cell_type": "code",
   "execution_count": 919,
   "id": "e5ed1bf1-dbd1-4d3c-b787-39ec6bf8f7a8",
   "metadata": {
    "tags": []
   },
   "outputs": [
    {
     "name": "stdout",
     "output_type": "stream",
     "text": [
      "Accuracy Score:  0.3076923076923077\n"
     ]
    }
   ],
   "source": [
    "print('Accuracy Score: ', accuracy_score(y_val, prediction_at_least_one))"
   ]
  },
  {
   "cell_type": "markdown",
   "id": "291f099a-6ac2-45df-83fd-d14d12e34588",
   "metadata": {
    "tags": []
   },
   "source": [
    "## the NN was the mdoel with best accuracy"
   ]
  },
  {
   "cell_type": "code",
   "execution_count": 985,
   "id": "bc8e8830-8537-41e2-8146-9007415dd0ac",
   "metadata": {
    "tags": []
   },
   "outputs": [],
   "source": [
    "from sklearn.neural_network import MLPClassifier\n",
    "final_classifier = MultiOutputClassifier(MLPClassifier(solver='lbfgs', alpha=1e-5,hidden_layer_sizes=(5,5,2), random_state=1))"
   ]
  },
  {
   "cell_type": "code",
   "execution_count": 986,
   "id": "75cca7b3-a823-442f-992e-45792008fe1e",
   "metadata": {
    "tags": []
   },
   "outputs": [],
   "source": [
    "final_classifier.fit(X_train_transf, y_train)\n",
    "\n",
    "y_predicted_val = final_classifier.predict_proba(X_val_transf)\n",
    "y_predicted_test = final_classifier.predict_proba(X_test_transf)\n",
    "\n",
    "prediction_val = final_classifier.predict(X_val_transf)\n",
    "prediction_test = final_classifier.predict(X_test_transf)"
   ]
  },
  {
   "cell_type": "code",
   "execution_count": 987,
   "id": "3df3d780-3060-4c44-9537-f725c1145d36",
   "metadata": {
    "tags": []
   },
   "outputs": [],
   "source": [
    "prediction_at_least_one_val = consider_at_least_one_class(prediction_val, y_predicted_val)\n",
    "prediction_at_least_one_test = consider_at_least_one_class(prediction_test, y_predicted_val)"
   ]
  },
  {
   "cell_type": "code",
   "execution_count": 988,
   "id": "dcb1bda7-d7a7-4667-9cd7-527b39db01ed",
   "metadata": {
    "tags": []
   },
   "outputs": [
    {
     "name": "stdout",
     "output_type": "stream",
     "text": [
      "Accuracy Score val:  0.5865384615384616\n"
     ]
    }
   ],
   "source": [
    "print('Accuracy Score val: ', accuracy_score(y_val, prediction_at_least_one_val))"
   ]
  },
  {
   "cell_type": "code",
   "execution_count": 989,
   "id": "7e7d85ca-0823-48c2-9eea-507b88ab1157",
   "metadata": {
    "tags": []
   },
   "outputs": [
    {
     "name": "stdout",
     "output_type": "stream",
     "text": [
      "Accuracy Score test:  0.5576923076923077\n"
     ]
    }
   ],
   "source": [
    "print('Accuracy Score test: ', accuracy_score(y_test, prediction_at_least_one_test))"
   ]
  },
  {
   "cell_type": "code",
   "execution_count": 990,
   "id": "c0ada114-dae5-461c-a678-b3197318a083",
   "metadata": {
    "tags": []
   },
   "outputs": [
    {
     "name": "stdout",
     "output_type": "stream",
     "text": [
      "Precision Score val:  0.6874989267557519\n"
     ]
    }
   ],
   "source": [
    "print('Precision Score val: ',precision_score(y_val, prediction_at_least_one_val, average='weighted'))"
   ]
  },
  {
   "cell_type": "code",
   "execution_count": 991,
   "id": "7e444a85-bedf-4f7a-a70e-88c7a7bcf524",
   "metadata": {
    "tags": []
   },
   "outputs": [
    {
     "name": "stdout",
     "output_type": "stream",
     "text": [
      "Precision Score test:  0.7245674670547337\n"
     ]
    }
   ],
   "source": [
    "print('Precision Score test: ',precision_score(y_test, prediction_at_least_one_test, average='weighted'))"
   ]
  },
  {
   "cell_type": "code",
   "execution_count": 992,
   "id": "79a95198-365b-4073-93d2-46450a77be3c",
   "metadata": {
    "tags": []
   },
   "outputs": [
    {
     "name": "stdout",
     "output_type": "stream",
     "text": [
      "Recall Score val:  0.6875\n"
     ]
    }
   ],
   "source": [
    "print('Recall Score val: ',recall_score(y_val, prediction_at_least_one_val, average='weighted'))"
   ]
  },
  {
   "cell_type": "code",
   "execution_count": 993,
   "id": "ac1e7333-8d7e-4f43-9b09-8b1742e2c2bc",
   "metadata": {
    "tags": []
   },
   "outputs": [
    {
     "name": "stdout",
     "output_type": "stream",
     "text": [
      "Recall Score test:  0.6228070175438597\n"
     ]
    }
   ],
   "source": [
    "print('Recall Score test: ',recall_score(y_test, prediction_at_least_one_test, average='weighted'))"
   ]
  },
  {
   "cell_type": "markdown",
   "id": "32993ec0-d5cf-4928-9404-207251a52c94",
   "metadata": {},
   "source": [
    "## Considering that the model classifies 5 different classes simultaniously, an accuracy of 55.7% to hit all the classes presence right can be considered a reasonably good percentage. It could have been interesting to use other metrics besides accuracy, such as precision and recall (especially considering that the classes are unbalanced)"
   ]
  },
  {
   "cell_type": "code",
   "execution_count": 979,
   "id": "3a3a3fad-0743-4697-bdfb-f87fa349853b",
   "metadata": {
    "tags": []
   },
   "outputs": [],
   "source": [
    "from sklearn.metrics import multilabel_confusion_matrix"
   ]
  },
  {
   "cell_type": "code",
   "execution_count": 994,
   "id": "f43a8586-cef9-4c87-9800-bf5160030f4b",
   "metadata": {
    "tags": []
   },
   "outputs": [
    {
     "data": {
      "text/plain": [
       "array([[[60, 23],\n",
       "        [ 4, 17]],\n",
       "\n",
       "       [[87,  1],\n",
       "        [ 9,  7]],\n",
       "\n",
       "       [[77,  3],\n",
       "        [13, 11]],\n",
       "\n",
       "       [[63,  5],\n",
       "        [10, 26]],\n",
       "\n",
       "       [[81,  6],\n",
       "        [ 7, 10]]], dtype=int64)"
      ]
     },
     "execution_count": 994,
     "metadata": {},
     "output_type": "execute_result"
    }
   ],
   "source": [
    "multilabel_confusion_matrix(y_test, prediction_at_least_one_test)"
   ]
  },
  {
   "cell_type": "markdown",
   "id": "57b3c684-57a7-4e30-8a7b-72ddae092139",
   "metadata": {},
   "source": [
    "## We could also analyse each classs separatly"
   ]
  },
  {
   "cell_type": "markdown",
   "id": "c527fdc6-01f6-4dcd-b662-3c4bd3af30ba",
   "metadata": {},
   "source": [
    "## Training with all data "
   ]
  },
  {
   "cell_type": "code",
   "execution_count": 43,
   "id": "0c8d3f37-2fea-4903-a5ab-c7b766ffab26",
   "metadata": {
    "tags": []
   },
   "outputs": [],
   "source": [
    "from sklearn.neural_network import MLPClassifier\n",
    "final_classifier = MultiOutputClassifier(MLPClassifier(solver='lbfgs', alpha=1e-5,hidden_layer_sizes=(5,5,2), random_state=1))"
   ]
  },
  {
   "cell_type": "code",
   "execution_count": 44,
   "id": "200e56b2-0985-4170-83eb-34306298ab8f",
   "metadata": {
    "tags": []
   },
   "outputs": [],
   "source": [
    "X_dataset = dataset['sentence']\n",
    "y_dataset = dataset.drop(['sentence'],axis=1)\n",
    "X_dataset_transf = vect.transform(X_dataset)"
   ]
  },
  {
   "cell_type": "code",
   "execution_count": 45,
   "id": "44505f5a-e70b-47ca-baa7-b6b5c7517364",
   "metadata": {
    "tags": []
   },
   "outputs": [],
   "source": [
    "final_classifier.fit(X_dataset_transf, y_dataset)\n",
    "\n",
    "y_predicted = final_classifier.predict_proba(X_dataset_transf)\n",
    "\n",
    "prediction = final_classifier.predict(X_dataset_transf)"
   ]
  },
  {
   "cell_type": "code",
   "execution_count": 46,
   "id": "763207ef-daba-434f-bfbc-5249436798ec",
   "metadata": {
    "tags": []
   },
   "outputs": [],
   "source": [
    "prediction_at_least_one = consider_at_least_one_class(prediction, y_predicted)"
   ]
  },
  {
   "cell_type": "code",
   "execution_count": 47,
   "id": "4a08cd82-9322-4d39-953c-c870f5aa3996",
   "metadata": {
    "tags": []
   },
   "outputs": [
    {
     "name": "stdout",
     "output_type": "stream",
     "text": [
      "Accuracy Score:  0.9424184261036468\n"
     ]
    }
   ],
   "source": [
    "print('Accuracy Score: ', accuracy_score(y_dataset, prediction_at_least_one))"
   ]
  },
  {
   "cell_type": "code",
   "execution_count": 48,
   "id": "5c1eeb97-52a2-4e23-ae01-ce252f8547cf",
   "metadata": {
    "tags": []
   },
   "outputs": [
    {
     "name": "stdout",
     "output_type": "stream",
     "text": [
      "Precision Score:  0.949723197832892\n"
     ]
    }
   ],
   "source": [
    "print('Precision Score: ',precision_score(y_dataset, prediction_at_least_one, average='weighted'))"
   ]
  },
  {
   "cell_type": "code",
   "execution_count": 49,
   "id": "a1494cac-2f9f-4555-98e2-b38a19280c96",
   "metadata": {
    "tags": []
   },
   "outputs": [
    {
     "name": "stdout",
     "output_type": "stream",
     "text": [
      "Recall Score:  0.9964726631393298\n"
     ]
    }
   ],
   "source": [
    "print('Recall Score: ',recall_score(y_dataset, prediction_at_least_one, average='weighted'))"
   ]
  },
  {
   "cell_type": "code",
   "execution_count": 53,
   "id": "bb4a23e7-fe15-4079-a030-bd62fe6059e3",
   "metadata": {
    "tags": []
   },
   "outputs": [],
   "source": [
    "import pickle\n",
    "\n",
    "with open('model_NN.pkl','wb') as f:\n",
    "    pickle.dump((final_classifier, vect),f)"
   ]
  },
  {
   "cell_type": "code",
   "execution_count": 54,
   "id": "f8699902-577e-4af7-b065-40bd39adc943",
   "metadata": {
    "tags": []
   },
   "outputs": [
    {
     "name": "stdout",
     "output_type": "stream",
     "text": [
      "0.9424184261036468\n"
     ]
    }
   ],
   "source": [
    "loaded_model, vect = pickle.load(open('model_NN.pkl', 'rb'))\n",
    "result = loaded_model.score(X_dataset_transf, y_dataset)\n",
    "print(result)"
   ]
  },
  {
   "cell_type": "code",
   "execution_count": 55,
   "id": "fb61965c-3f2f-4477-a6b6-38f4d25509e4",
   "metadata": {
    "tags": []
   },
   "outputs": [
    {
     "data": {
      "text/plain": [
       "<521x1432 sparse matrix of type '<class 'numpy.int64'>'\n",
       "\twith 4164 stored elements in Compressed Sparse Row format>"
      ]
     },
     "execution_count": 55,
     "metadata": {},
     "output_type": "execute_result"
    }
   ],
   "source": [
    "X_dataset_transf"
   ]
  },
  {
   "cell_type": "code",
   "execution_count": 56,
   "id": "24c3db8a-95bd-44d5-af4c-9426d9a7f6a4",
   "metadata": {
    "tags": []
   },
   "outputs": [
    {
     "data": {
      "text/html": [
       "<div>\n",
       "<style scoped>\n",
       "    .dataframe tbody tr th:only-of-type {\n",
       "        vertical-align: middle;\n",
       "    }\n",
       "\n",
       "    .dataframe tbody tr th {\n",
       "        vertical-align: top;\n",
       "    }\n",
       "\n",
       "    .dataframe thead th {\n",
       "        text-align: right;\n",
       "    }\n",
       "</style>\n",
       "<table border=\"1\" class=\"dataframe\">\n",
       "  <thead>\n",
       "    <tr style=\"text-align: right;\">\n",
       "      <th></th>\n",
       "      <th>sentence</th>\n",
       "      <th>educação</th>\n",
       "      <th>finanças</th>\n",
       "      <th>indústrias</th>\n",
       "      <th>orgão público</th>\n",
       "      <th>varejo</th>\n",
       "    </tr>\n",
       "  </thead>\n",
       "  <tbody>\n",
       "    <tr>\n",
       "      <th>0</th>\n",
       "      <td>Auxílio-Doença Previdenciário, Benefícios em E...</td>\n",
       "      <td>0</td>\n",
       "      <td>0</td>\n",
       "      <td>0</td>\n",
       "      <td>1</td>\n",
       "      <td>0</td>\n",
       "    </tr>\n",
       "    <tr>\n",
       "      <th>1</th>\n",
       "      <td>PAGAR TODAS AS CONTAS EM ATRASO R$1.290,90.</td>\n",
       "      <td>0</td>\n",
       "      <td>1</td>\n",
       "      <td>0</td>\n",
       "      <td>0</td>\n",
       "      <td>0</td>\n",
       "    </tr>\n",
       "    <tr>\n",
       "      <th>2</th>\n",
       "      <td>Então encontraremos na próxima aula.</td>\n",
       "      <td>1</td>\n",
       "      <td>0</td>\n",
       "      <td>0</td>\n",
       "      <td>0</td>\n",
       "      <td>0</td>\n",
       "    </tr>\n",
       "    <tr>\n",
       "      <th>3</th>\n",
       "      <td>Veja os resultados da categoria de ofertas do ...</td>\n",
       "      <td>0</td>\n",
       "      <td>0</td>\n",
       "      <td>1</td>\n",
       "      <td>0</td>\n",
       "      <td>0</td>\n",
       "    </tr>\n",
       "    <tr>\n",
       "      <th>4</th>\n",
       "      <td>Além disso, a embalagem é reutilizável e 100% ...</td>\n",
       "      <td>0</td>\n",
       "      <td>0</td>\n",
       "      <td>1</td>\n",
       "      <td>0</td>\n",
       "      <td>1</td>\n",
       "    </tr>\n",
       "    <tr>\n",
       "      <th>...</th>\n",
       "      <td>...</td>\n",
       "      <td>...</td>\n",
       "      <td>...</td>\n",
       "      <td>...</td>\n",
       "      <td>...</td>\n",
       "      <td>...</td>\n",
       "    </tr>\n",
       "    <tr>\n",
       "      <th>516</th>\n",
       "      <td>Selecione o local de estudo, curso sem encontr...</td>\n",
       "      <td>1</td>\n",
       "      <td>0</td>\n",
       "      <td>0</td>\n",
       "      <td>0</td>\n",
       "      <td>0</td>\n",
       "    </tr>\n",
       "    <tr>\n",
       "      <th>517</th>\n",
       "      <td>ESTUDANTES DA REDE MUNICIPAL VOLTAM ÀS AULAS E...</td>\n",
       "      <td>1</td>\n",
       "      <td>0</td>\n",
       "      <td>0</td>\n",
       "      <td>1</td>\n",
       "      <td>0</td>\n",
       "    </tr>\n",
       "    <tr>\n",
       "      <th>518</th>\n",
       "      <td>Empresas e órgãos públicos</td>\n",
       "      <td>0</td>\n",
       "      <td>0</td>\n",
       "      <td>0</td>\n",
       "      <td>1</td>\n",
       "      <td>0</td>\n",
       "    </tr>\n",
       "    <tr>\n",
       "      <th>519</th>\n",
       "      <td>DGE – Departamento de Gestão Estratégica Metas...</td>\n",
       "      <td>0</td>\n",
       "      <td>0</td>\n",
       "      <td>0</td>\n",
       "      <td>1</td>\n",
       "      <td>0</td>\n",
       "    </tr>\n",
       "    <tr>\n",
       "      <th>520</th>\n",
       "      <td>Lei 13.467/2017, Reforma Trabalhista</td>\n",
       "      <td>0</td>\n",
       "      <td>0</td>\n",
       "      <td>0</td>\n",
       "      <td>1</td>\n",
       "      <td>0</td>\n",
       "    </tr>\n",
       "  </tbody>\n",
       "</table>\n",
       "<p>521 rows × 6 columns</p>\n",
       "</div>"
      ],
      "text/plain": [
       "                                              sentence  educação  finanças  \\\n",
       "0    Auxílio-Doença Previdenciário, Benefícios em E...         0         0   \n",
       "1          PAGAR TODAS AS CONTAS EM ATRASO R$1.290,90.         0         1   \n",
       "2                 Então encontraremos na próxima aula.         1         0   \n",
       "3    Veja os resultados da categoria de ofertas do ...         0         0   \n",
       "4    Além disso, a embalagem é reutilizável e 100% ...         0         0   \n",
       "..                                                 ...       ...       ...   \n",
       "516  Selecione o local de estudo, curso sem encontr...         1         0   \n",
       "517  ESTUDANTES DA REDE MUNICIPAL VOLTAM ÀS AULAS E...         1         0   \n",
       "518                         Empresas e órgãos públicos         0         0   \n",
       "519  DGE – Departamento de Gestão Estratégica Metas...         0         0   \n",
       "520               Lei 13.467/2017, Reforma Trabalhista         0         0   \n",
       "\n",
       "     indústrias  orgão público  varejo  \n",
       "0             0              1       0  \n",
       "1             0              0       0  \n",
       "2             0              0       0  \n",
       "3             1              0       0  \n",
       "4             1              0       1  \n",
       "..          ...            ...     ...  \n",
       "516           0              0       0  \n",
       "517           0              1       0  \n",
       "518           0              1       0  \n",
       "519           0              1       0  \n",
       "520           0              1       0  \n",
       "\n",
       "[521 rows x 6 columns]"
      ]
     },
     "execution_count": 56,
     "metadata": {},
     "output_type": "execute_result"
    }
   ],
   "source": [
    "dataset"
   ]
  },
  {
   "cell_type": "code",
   "execution_count": null,
   "id": "1e8783e8-49e9-4f18-ad63-0a01e46cf4b7",
   "metadata": {},
   "outputs": [],
   "source": []
  }
 ],
 "metadata": {
  "kernelspec": {
   "display_name": "Python 3 (ipykernel)",
   "language": "python",
   "name": "python3"
  },
  "language_info": {
   "codemirror_mode": {
    "name": "ipython",
    "version": 3
   },
   "file_extension": ".py",
   "mimetype": "text/x-python",
   "name": "python",
   "nbconvert_exporter": "python",
   "pygments_lexer": "ipython3",
   "version": "3.9.7"
  }
 },
 "nbformat": 4,
 "nbformat_minor": 5
}
